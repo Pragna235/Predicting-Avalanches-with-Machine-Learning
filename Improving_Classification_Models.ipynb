{
  "nbformat": 4,
  "nbformat_minor": 0,
  "metadata": {
    "colab": {
      "provenance": [],
      "authorship_tag": "ABX9TyMSTaLxciJDr5uPMu42C0+e",
      "include_colab_link": true
    },
    "kernelspec": {
      "name": "python3",
      "display_name": "Python 3"
    },
    "language_info": {
      "name": "python"
    }
  },
  "cells": [
    {
      "cell_type": "markdown",
      "metadata": {
        "id": "view-in-github",
        "colab_type": "text"
      },
      "source": [
        "<a href=\"https://colab.research.google.com/github/Pragna235/Predicting-Avalanches-with-Machine-Learning/blob/main/Improving_Classification_Models.ipynb\" target=\"_parent\"><img src=\"https://colab.research.google.com/assets/colab-badge.svg\" alt=\"Open In Colab\"/></a>"
      ]
    },
    {
      "cell_type": "markdown",
      "source": [
        "# Exercise: Improving a logistic regression model\n",
        "\n",
        "In the previous exercise, we fit a simple logistic regression model to predict the chance of an avalanche. This time, we'll improve its performance by using multiple features intelligently.\n",
        "\n",
        "## Data visualisation\n",
        "\n",
        "Let's load our data."
      ],
      "metadata": {
        "id": "qZ_dAt0WT78R"
      }
    },
    {
      "cell_type": "code",
      "execution_count": 1,
      "metadata": {
        "id": "l7ELCeH3S77g",
        "colab": {
          "base_uri": "https://localhost:8080/"
        },
        "outputId": "951a9fc0-c356-43bb-bdcd-5f6a0833b8e0"
      },
      "outputs": [
        {
          "output_type": "stream",
          "name": "stdout",
          "text": [
            "--2023-08-06 05:26:34--  https://raw.githubusercontent.com/MicrosoftDocs/mslearn-introduction-to-machine-learning/main/graphing.py\n",
            "Resolving raw.githubusercontent.com (raw.githubusercontent.com)... 185.199.108.133, 185.199.109.133, 185.199.110.133, ...\n",
            "Connecting to raw.githubusercontent.com (raw.githubusercontent.com)|185.199.108.133|:443... connected.\n",
            "HTTP request sent, awaiting response... 200 OK\n",
            "Length: 21511 (21K) [text/plain]\n",
            "Saving to: ‘graphing.py’\n",
            "\n",
            "graphing.py         100%[===================>]  21.01K  --.-KB/s    in 0.001s  \n",
            "\n",
            "2023-08-06 05:26:34 (17.5 MB/s) - ‘graphing.py’ saved [21511/21511]\n",
            "\n",
            "--2023-08-06 05:26:34--  https://raw.githubusercontent.com/MicrosoftDocs/mslearn-introduction-to-machine-learning/main/Data/avalanche.csv\n",
            "Resolving raw.githubusercontent.com (raw.githubusercontent.com)... 185.199.108.133, 185.199.109.133, 185.199.110.133, ...\n",
            "Connecting to raw.githubusercontent.com (raw.githubusercontent.com)|185.199.108.133|:443... connected.\n",
            "HTTP request sent, awaiting response... 200 OK\n",
            "Length: 56578 (55K) [text/plain]\n",
            "Saving to: ‘avalanche.csv’\n",
            "\n",
            "avalanche.csv       100%[===================>]  55.25K  --.-KB/s    in 0.007s  \n",
            "\n",
            "2023-08-06 05:26:35 (7.26 MB/s) - ‘avalanche.csv’ saved [56578/56578]\n",
            "\n",
            "Train size: 821\n",
            "Test size: 274\n",
            "     avalanche  no_visitors  surface_hoar  fresh_thickness  wind  weak_layers  \\\n",
            "176          0            9      5.142447         9.877195     6            8   \n",
            "114          1            3      8.170281         9.136835    34            7   \n",
            "869          0            3      1.979579         9.497017    10            8   \n",
            "775          1            0      1.999078         9.337908    21            6   \n",
            "181          1            9      6.854401         6.099359    22            5   \n",
            "\n",
            "     tracked_out  \n",
            "176            1  \n",
            "114            0  \n",
            "869            0  \n",
            "775            0  \n",
            "181            0  \n"
          ]
        }
      ],
      "source": [
        "import pandas\n",
        "\n",
        "!wget https://raw.githubusercontent.com/MicrosoftDocs/mslearn-introduction-to-machine-learning/main/graphing.py\n",
        "!wget https://raw.githubusercontent.com/MicrosoftDocs/mslearn-introduction-to-machine-learning/main/Data/avalanche.csv\n",
        "import graphing # custom graphing code. See our GitHub repo for details\n",
        "\n",
        "#Import the data from the .csv file\n",
        "dataset = pandas.read_csv('avalanche.csv', delimiter=\"\\t\", index_col=0)\n",
        "\n",
        "# Split our data into training and test\n",
        "import sklearn.model_selection\n",
        "train, test = sklearn.model_selection.train_test_split(dataset, test_size=0.25, random_state=10)\n",
        "\n",
        "print(\"Train size:\", train.shape[0])\n",
        "print(\"Test size:\", test.shape[0])\n",
        "\n",
        "#Let's have a look at the data\n",
        "print(train.head())"
      ]
    },
    {
      "cell_type": "markdown",
      "source": [
        "We have numerous features available:\n",
        "\n",
        "* `surface_hoar` is how disturbed the surface of the snow is\n",
        "* `fresh_thickness` is how thick the top layer of snow is, or 0 if there's no fresh snow on top\n",
        "* `wind` is the top wind speed that day, in km/h\n",
        "* `weak_layers` is the number of layers of snow that aren't well-bound to other layers\n",
        "* `no_visitors` is the number of hikers who were on the trail that day\n",
        "* `tracked_out` is a `1` or `0`. A `1` means that the snow has been trampled heavily by hikers\n",
        "\n",
        "## Simple logistic regression\n",
        "\n",
        "Let's make a simple logistic regression model and assess its performance with accuracy.\n",
        "\n"
      ],
      "metadata": {
        "id": "C7W28rjQULO_"
      }
    },
    {
      "cell_type": "code",
      "source": [
        "import sklearn\n",
        "from sklearn.metrics import accuracy_score\n",
        "import statsmodels.formula.api as smf\n",
        "\n",
        "# Perform logistic regression.\n",
        "model = smf.logit(\"avalanche ~ weak_layers\", train).fit()\n",
        "\n",
        "# Calculate accuracy\n",
        "def calculate_accuracy(model):\n",
        "    '''\n",
        "    Calculates accuracy\n",
        "    '''\n",
        "    # Make estimations and convert to categories\n",
        "    avalanche_predicted = model.predict(test) > 0.5\n",
        "\n",
        "    # Calculate what proportion were predicted correctly\n",
        "    # We can use sklearn to calculate accuracy for us\n",
        "    print(\"Accuracy:\", accuracy_score(test.avalanche, avalanche_predicted))\n",
        "\n",
        "calculate_accuracy(model)"
      ],
      "metadata": {
        "colab": {
          "base_uri": "https://localhost:8080/"
        },
        "id": "3phoneiZUMRZ",
        "outputId": "3a13d7a8-3acc-4e7e-d5c0-df5e99bcc259"
      },
      "execution_count": 2,
      "outputs": [
        {
          "output_type": "stream",
          "name": "stdout",
          "text": [
            "Optimization terminated successfully.\n",
            "         Current function value: 0.616312\n",
            "         Iterations 5\n",
            "Accuracy: 0.6167883211678832\n"
          ]
        }
      ]
    },
    {
      "cell_type": "markdown",
      "source": [
        "Let's see how we can improve our model\n",
        "\n",
        "## Utilizing multiple features\n",
        "\n",
        "Most of our features seem like they could be useful, least in theory. Let's try a model with all features we've available."
      ],
      "metadata": {
        "id": "qvi0CIQpUhBK"
      }
    },
    {
      "cell_type": "code",
      "source": [
        "# Perform logistic regression.\n",
        "model_all_features = smf.logit(\"avalanche ~ weak_layers + surface_hoar + fresh_thickness + wind + no_visitors + tracked_out\", train).fit()\n",
        "calculate_accuracy(model_all_features)"
      ],
      "metadata": {
        "colab": {
          "base_uri": "https://localhost:8080/"
        },
        "id": "ovhJbMO3UhuA",
        "outputId": "797d0325-b87a-45d2-a312-d280f70b8a61"
      },
      "execution_count": 3,
      "outputs": [
        {
          "output_type": "stream",
          "name": "stdout",
          "text": [
            "Optimization terminated successfully.\n",
            "         Current function value: 0.459347\n",
            "         Iterations 7\n",
            "Accuracy: 0.7846715328467153\n"
          ]
        }
      ]
    },
    {
      "cell_type": "markdown",
      "source": [
        "That's a big improvement on the simpler model we've been working with.\n",
        "\n",
        "To understand why, we can look at the summary information"
      ],
      "metadata": {
        "id": "BsfS7HQDUn3v"
      }
    },
    {
      "cell_type": "code",
      "source": [
        "model_all_features.summary()"
      ],
      "metadata": {
        "colab": {
          "base_uri": "https://localhost:8080/",
          "height": 352
        },
        "id": "_zR0t4ihUomM",
        "outputId": "23fb51e2-b123-408c-f7ad-62fb0784bea0"
      },
      "execution_count": 4,
      "outputs": [
        {
          "output_type": "execute_result",
          "data": {
            "text/plain": [
              "<class 'statsmodels.iolib.summary.Summary'>\n",
              "\"\"\"\n",
              "                           Logit Regression Results                           \n",
              "==============================================================================\n",
              "Dep. Variable:              avalanche   No. Observations:                  821\n",
              "Model:                          Logit   Df Residuals:                      814\n",
              "Method:                           MLE   Df Model:                            6\n",
              "Date:                Sun, 06 Aug 2023   Pseudo R-squ.:                  0.3305\n",
              "Time:                        05:29:03   Log-Likelihood:                -377.12\n",
              "converged:                       True   LL-Null:                       -563.33\n",
              "Covariance Type:            nonrobust   LLR p-value:                 2.372e-77\n",
              "===================================================================================\n",
              "                      coef    std err          z      P>|z|      [0.025      0.975]\n",
              "-----------------------------------------------------------------------------------\n",
              "Intercept          -4.0107      0.443     -9.043      0.000      -4.880      -3.141\n",
              "weak_layers         0.3733      0.034     10.871      0.000       0.306       0.441\n",
              "surface_hoar        0.3306      0.035      9.424      0.000       0.262       0.399\n",
              "fresh_thickness    -0.0220      0.030     -0.732      0.464      -0.081       0.037\n",
              "wind                0.1009      0.009     11.149      0.000       0.083       0.119\n",
              "no_visitors        -0.1060      0.032     -3.262      0.001      -0.170      -0.042\n",
              "tracked_out        -0.0664      0.181     -0.367      0.713      -0.420       0.288\n",
              "===================================================================================\n",
              "\"\"\""
            ],
            "text/html": [
              "<table class=\"simpletable\">\n",
              "<caption>Logit Regression Results</caption>\n",
              "<tr>\n",
              "  <th>Dep. Variable:</th>       <td>avalanche</td>    <th>  No. Observations:  </th>  <td>   821</td>  \n",
              "</tr>\n",
              "<tr>\n",
              "  <th>Model:</th>                 <td>Logit</td>      <th>  Df Residuals:      </th>  <td>   814</td>  \n",
              "</tr>\n",
              "<tr>\n",
              "  <th>Method:</th>                 <td>MLE</td>       <th>  Df Model:          </th>  <td>     6</td>  \n",
              "</tr>\n",
              "<tr>\n",
              "  <th>Date:</th>            <td>Sun, 06 Aug 2023</td> <th>  Pseudo R-squ.:     </th>  <td>0.3305</td>  \n",
              "</tr>\n",
              "<tr>\n",
              "  <th>Time:</th>                <td>05:29:03</td>     <th>  Log-Likelihood:    </th> <td> -377.12</td> \n",
              "</tr>\n",
              "<tr>\n",
              "  <th>converged:</th>             <td>True</td>       <th>  LL-Null:           </th> <td> -563.33</td> \n",
              "</tr>\n",
              "<tr>\n",
              "  <th>Covariance Type:</th>     <td>nonrobust</td>    <th>  LLR p-value:       </th> <td>2.372e-77</td>\n",
              "</tr>\n",
              "</table>\n",
              "<table class=\"simpletable\">\n",
              "<tr>\n",
              "         <td></td>            <th>coef</th>     <th>std err</th>      <th>z</th>      <th>P>|z|</th>  <th>[0.025</th>    <th>0.975]</th>  \n",
              "</tr>\n",
              "<tr>\n",
              "  <th>Intercept</th>       <td>   -4.0107</td> <td>    0.443</td> <td>   -9.043</td> <td> 0.000</td> <td>   -4.880</td> <td>   -3.141</td>\n",
              "</tr>\n",
              "<tr>\n",
              "  <th>weak_layers</th>     <td>    0.3733</td> <td>    0.034</td> <td>   10.871</td> <td> 0.000</td> <td>    0.306</td> <td>    0.441</td>\n",
              "</tr>\n",
              "<tr>\n",
              "  <th>surface_hoar</th>    <td>    0.3306</td> <td>    0.035</td> <td>    9.424</td> <td> 0.000</td> <td>    0.262</td> <td>    0.399</td>\n",
              "</tr>\n",
              "<tr>\n",
              "  <th>fresh_thickness</th> <td>   -0.0220</td> <td>    0.030</td> <td>   -0.732</td> <td> 0.464</td> <td>   -0.081</td> <td>    0.037</td>\n",
              "</tr>\n",
              "<tr>\n",
              "  <th>wind</th>            <td>    0.1009</td> <td>    0.009</td> <td>   11.149</td> <td> 0.000</td> <td>    0.083</td> <td>    0.119</td>\n",
              "</tr>\n",
              "<tr>\n",
              "  <th>no_visitors</th>     <td>   -0.1060</td> <td>    0.032</td> <td>   -3.262</td> <td> 0.001</td> <td>   -0.170</td> <td>   -0.042</td>\n",
              "</tr>\n",
              "<tr>\n",
              "  <th>tracked_out</th>     <td>   -0.0664</td> <td>    0.181</td> <td>   -0.367</td> <td> 0.713</td> <td>   -0.420</td> <td>    0.288</td>\n",
              "</tr>\n",
              "</table>"
            ]
          },
          "metadata": {},
          "execution_count": 4
        }
      ]
    },
    {
      "cell_type": "markdown",
      "source": [
        "Take a look at the P column, recalling that values less than 0.05 mean we can be confident that this parameter is helping the model make better predictions.\n",
        "\n",
        "Both `surface_hoar` and `wind` have very small values here, meaning they're useful predictors and probably explain why our model is working better. If we look at the `coef` (which states _parameters_) column we see that these have positive values. This means that higher winds, and greater amounts of surface hoar result in higher avalanche risk.\n",
        "\n",
        "## Simplifying our model\n",
        "\n",
        "Looking at the summary again, we can see that `tracked_out` (how trampled the snow is), and `fresh_thickness` have large p-values. This means they aren't useful predictors. Let's see what happens if we remove them from our model:"
      ],
      "metadata": {
        "id": "XhUxzoZmUvLj"
      }
    },
    {
      "cell_type": "code",
      "source": [
        "# Perform logistic regression.\n",
        "model_simplified = smf.logit(\"avalanche ~ weak_layers + surface_hoar + wind + no_visitors\", train).fit()\n",
        "calculate_accuracy(model_simplified)"
      ],
      "metadata": {
        "colab": {
          "base_uri": "https://localhost:8080/"
        },
        "id": "ulpmJIqBUwEE",
        "outputId": "38176ae2-6a6a-4efa-d78b-b9b4c3560196"
      },
      "execution_count": 5,
      "outputs": [
        {
          "output_type": "stream",
          "name": "stdout",
          "text": [
            "Optimization terminated successfully.\n",
            "         Current function value: 0.459760\n",
            "         Iterations 7\n",
            "Accuracy: 0.781021897810219\n"
          ]
        }
      ]
    },
    {
      "cell_type": "markdown",
      "source": [
        "Our new model works very similarly to the old one! In some circumstances simplifying a model like this can even improve it, as it becomes less likely to overfit.\n",
        "\n",
        "## Careful feature selection\n",
        "\n",
        "Usually, we don't just pick features blindly. Let's think about what we've just done - we removed how much fresh snow was in a model, trying to predict avalanches. Something seems off. Surely avalanches are much _more_ likely after it has snowed? Similarly, the number of people on the track seems unrelated to how many avalanches there were, but we know that people often can trigger avalanches.\n",
        "\n",
        "Let's review our earlier model again:"
      ],
      "metadata": {
        "id": "5nPCstQNVAuI"
      }
    },
    {
      "cell_type": "code",
      "source": [
        "model_all_features.summary()"
      ],
      "metadata": {
        "colab": {
          "base_uri": "https://localhost:8080/",
          "height": 352
        },
        "id": "kPeCWr4PVB4M",
        "outputId": "06787b5c-5542-4d47-cc13-82cc03775834"
      },
      "execution_count": 6,
      "outputs": [
        {
          "output_type": "execute_result",
          "data": {
            "text/plain": [
              "<class 'statsmodels.iolib.summary.Summary'>\n",
              "\"\"\"\n",
              "                           Logit Regression Results                           \n",
              "==============================================================================\n",
              "Dep. Variable:              avalanche   No. Observations:                  821\n",
              "Model:                          Logit   Df Residuals:                      814\n",
              "Method:                           MLE   Df Model:                            6\n",
              "Date:                Sun, 06 Aug 2023   Pseudo R-squ.:                  0.3305\n",
              "Time:                        05:31:07   Log-Likelihood:                -377.12\n",
              "converged:                       True   LL-Null:                       -563.33\n",
              "Covariance Type:            nonrobust   LLR p-value:                 2.372e-77\n",
              "===================================================================================\n",
              "                      coef    std err          z      P>|z|      [0.025      0.975]\n",
              "-----------------------------------------------------------------------------------\n",
              "Intercept          -4.0107      0.443     -9.043      0.000      -4.880      -3.141\n",
              "weak_layers         0.3733      0.034     10.871      0.000       0.306       0.441\n",
              "surface_hoar        0.3306      0.035      9.424      0.000       0.262       0.399\n",
              "fresh_thickness    -0.0220      0.030     -0.732      0.464      -0.081       0.037\n",
              "wind                0.1009      0.009     11.149      0.000       0.083       0.119\n",
              "no_visitors        -0.1060      0.032     -3.262      0.001      -0.170      -0.042\n",
              "tracked_out        -0.0664      0.181     -0.367      0.713      -0.420       0.288\n",
              "===================================================================================\n",
              "\"\"\""
            ],
            "text/html": [
              "<table class=\"simpletable\">\n",
              "<caption>Logit Regression Results</caption>\n",
              "<tr>\n",
              "  <th>Dep. Variable:</th>       <td>avalanche</td>    <th>  No. Observations:  </th>  <td>   821</td>  \n",
              "</tr>\n",
              "<tr>\n",
              "  <th>Model:</th>                 <td>Logit</td>      <th>  Df Residuals:      </th>  <td>   814</td>  \n",
              "</tr>\n",
              "<tr>\n",
              "  <th>Method:</th>                 <td>MLE</td>       <th>  Df Model:          </th>  <td>     6</td>  \n",
              "</tr>\n",
              "<tr>\n",
              "  <th>Date:</th>            <td>Sun, 06 Aug 2023</td> <th>  Pseudo R-squ.:     </th>  <td>0.3305</td>  \n",
              "</tr>\n",
              "<tr>\n",
              "  <th>Time:</th>                <td>05:31:07</td>     <th>  Log-Likelihood:    </th> <td> -377.12</td> \n",
              "</tr>\n",
              "<tr>\n",
              "  <th>converged:</th>             <td>True</td>       <th>  LL-Null:           </th> <td> -563.33</td> \n",
              "</tr>\n",
              "<tr>\n",
              "  <th>Covariance Type:</th>     <td>nonrobust</td>    <th>  LLR p-value:       </th> <td>2.372e-77</td>\n",
              "</tr>\n",
              "</table>\n",
              "<table class=\"simpletable\">\n",
              "<tr>\n",
              "         <td></td>            <th>coef</th>     <th>std err</th>      <th>z</th>      <th>P>|z|</th>  <th>[0.025</th>    <th>0.975]</th>  \n",
              "</tr>\n",
              "<tr>\n",
              "  <th>Intercept</th>       <td>   -4.0107</td> <td>    0.443</td> <td>   -9.043</td> <td> 0.000</td> <td>   -4.880</td> <td>   -3.141</td>\n",
              "</tr>\n",
              "<tr>\n",
              "  <th>weak_layers</th>     <td>    0.3733</td> <td>    0.034</td> <td>   10.871</td> <td> 0.000</td> <td>    0.306</td> <td>    0.441</td>\n",
              "</tr>\n",
              "<tr>\n",
              "  <th>surface_hoar</th>    <td>    0.3306</td> <td>    0.035</td> <td>    9.424</td> <td> 0.000</td> <td>    0.262</td> <td>    0.399</td>\n",
              "</tr>\n",
              "<tr>\n",
              "  <th>fresh_thickness</th> <td>   -0.0220</td> <td>    0.030</td> <td>   -0.732</td> <td> 0.464</td> <td>   -0.081</td> <td>    0.037</td>\n",
              "</tr>\n",
              "<tr>\n",
              "  <th>wind</th>            <td>    0.1009</td> <td>    0.009</td> <td>   11.149</td> <td> 0.000</td> <td>    0.083</td> <td>    0.119</td>\n",
              "</tr>\n",
              "<tr>\n",
              "  <th>no_visitors</th>     <td>   -0.1060</td> <td>    0.032</td> <td>   -3.262</td> <td> 0.001</td> <td>   -0.170</td> <td>   -0.042</td>\n",
              "</tr>\n",
              "<tr>\n",
              "  <th>tracked_out</th>     <td>   -0.0664</td> <td>    0.181</td> <td>   -0.367</td> <td> 0.713</td> <td>   -0.420</td> <td>    0.288</td>\n",
              "</tr>\n",
              "</table>"
            ]
          },
          "metadata": {},
          "execution_count": 6
        }
      ]
    },
    {
      "cell_type": "markdown",
      "source": [
        "Look at the `fresh_thickness` row. We're told that it has a negative coefficient. This means that as thickness increases, avalanches decrease.\n",
        "\n",
        "Similarly, `no_visitors` has a negative coefficient, meaning that fewer hikers means more avalanches.\n",
        "\n",
        "How can this be? Well, while visitors can cause avalanches if there's a lot of fresh snow, presumably they cannot do so easily if there's no fresh snow. This means that our features aren't fully independent.\n",
        "\n",
        "We can tell the model to try to take into account that these features interact, using a multiply sign. Let's try that now."
      ],
      "metadata": {
        "id": "yMJr7Qb3VLto"
      }
    },
    {
      "cell_type": "code",
      "source": [
        "# Create a model with an interaction. Notice the end of the string where\n",
        "# we've a multiply sign between no_visitors and fresh_thickness\n",
        "formula = \"avalanche ~ weak_layers + surface_hoar + wind + no_visitors * fresh_thickness\"\n",
        "model_with_interaction = smf.logit(formula, train).fit()\n",
        "calculate_accuracy(model_with_interaction)"
      ],
      "metadata": {
        "colab": {
          "base_uri": "https://localhost:8080/"
        },
        "id": "y_VeBvxHVMnI",
        "outputId": "41ea29e3-8a31-4b91-8fd2-dea65d2cbf8c"
      },
      "execution_count": 7,
      "outputs": [
        {
          "output_type": "stream",
          "name": "stdout",
          "text": [
            "Optimization terminated successfully.\n",
            "         Current function value: 0.413538\n",
            "         Iterations 7\n",
            "Accuracy: 0.8357664233576643\n"
          ]
        }
      ]
    },
    {
      "cell_type": "markdown",
      "source": [
        "The model has improved to 84% accuracy! Let's look at the summary information:"
      ],
      "metadata": {
        "id": "9ZDdVNfhVc0-"
      }
    },
    {
      "cell_type": "code",
      "source": [
        "model_with_interaction.summary()"
      ],
      "metadata": {
        "colab": {
          "base_uri": "https://localhost:8080/",
          "height": 352
        },
        "id": "aRjHotcHVdjX",
        "outputId": "11d4cb5a-1c72-4f7e-be16-321ba5cc5469"
      },
      "execution_count": 8,
      "outputs": [
        {
          "output_type": "execute_result",
          "data": {
            "text/plain": [
              "<class 'statsmodels.iolib.summary.Summary'>\n",
              "\"\"\"\n",
              "                           Logit Regression Results                           \n",
              "==============================================================================\n",
              "Dep. Variable:              avalanche   No. Observations:                  821\n",
              "Model:                          Logit   Df Residuals:                      814\n",
              "Method:                           MLE   Df Model:                            6\n",
              "Date:                Sun, 06 Aug 2023   Pseudo R-squ.:                  0.3973\n",
              "Time:                        05:32:35   Log-Likelihood:                -339.51\n",
              "converged:                       True   LL-Null:                       -563.33\n",
              "Covariance Type:            nonrobust   LLR p-value:                 1.587e-93\n",
              "===============================================================================================\n",
              "                                  coef    std err          z      P>|z|      [0.025      0.975]\n",
              "-----------------------------------------------------------------------------------------------\n",
              "Intercept                      -0.9606      0.587     -1.636      0.102      -2.111       0.190\n",
              "weak_layers                     0.4327      0.039     11.193      0.000       0.357       0.508\n",
              "surface_hoar                    0.3887      0.039     10.035      0.000       0.313       0.465\n",
              "wind                            0.1204      0.010     11.607      0.000       0.100       0.141\n",
              "no_visitors                    -0.9430      0.114     -8.237      0.000      -1.167      -0.719\n",
              "fresh_thickness                -0.4962      0.069     -7.191      0.000      -0.631      -0.361\n",
              "no_visitors:fresh_thickness     0.1015      0.013      7.835      0.000       0.076       0.127\n",
              "===============================================================================================\n",
              "\"\"\""
            ],
            "text/html": [
              "<table class=\"simpletable\">\n",
              "<caption>Logit Regression Results</caption>\n",
              "<tr>\n",
              "  <th>Dep. Variable:</th>       <td>avalanche</td>    <th>  No. Observations:  </th>  <td>   821</td>  \n",
              "</tr>\n",
              "<tr>\n",
              "  <th>Model:</th>                 <td>Logit</td>      <th>  Df Residuals:      </th>  <td>   814</td>  \n",
              "</tr>\n",
              "<tr>\n",
              "  <th>Method:</th>                 <td>MLE</td>       <th>  Df Model:          </th>  <td>     6</td>  \n",
              "</tr>\n",
              "<tr>\n",
              "  <th>Date:</th>            <td>Sun, 06 Aug 2023</td> <th>  Pseudo R-squ.:     </th>  <td>0.3973</td>  \n",
              "</tr>\n",
              "<tr>\n",
              "  <th>Time:</th>                <td>05:32:35</td>     <th>  Log-Likelihood:    </th> <td> -339.51</td> \n",
              "</tr>\n",
              "<tr>\n",
              "  <th>converged:</th>             <td>True</td>       <th>  LL-Null:           </th> <td> -563.33</td> \n",
              "</tr>\n",
              "<tr>\n",
              "  <th>Covariance Type:</th>     <td>nonrobust</td>    <th>  LLR p-value:       </th> <td>1.587e-93</td>\n",
              "</tr>\n",
              "</table>\n",
              "<table class=\"simpletable\">\n",
              "<tr>\n",
              "               <td></td>                  <th>coef</th>     <th>std err</th>      <th>z</th>      <th>P>|z|</th>  <th>[0.025</th>    <th>0.975]</th>  \n",
              "</tr>\n",
              "<tr>\n",
              "  <th>Intercept</th>                   <td>   -0.9606</td> <td>    0.587</td> <td>   -1.636</td> <td> 0.102</td> <td>   -2.111</td> <td>    0.190</td>\n",
              "</tr>\n",
              "<tr>\n",
              "  <th>weak_layers</th>                 <td>    0.4327</td> <td>    0.039</td> <td>   11.193</td> <td> 0.000</td> <td>    0.357</td> <td>    0.508</td>\n",
              "</tr>\n",
              "<tr>\n",
              "  <th>surface_hoar</th>                <td>    0.3887</td> <td>    0.039</td> <td>   10.035</td> <td> 0.000</td> <td>    0.313</td> <td>    0.465</td>\n",
              "</tr>\n",
              "<tr>\n",
              "  <th>wind</th>                        <td>    0.1204</td> <td>    0.010</td> <td>   11.607</td> <td> 0.000</td> <td>    0.100</td> <td>    0.141</td>\n",
              "</tr>\n",
              "<tr>\n",
              "  <th>no_visitors</th>                 <td>   -0.9430</td> <td>    0.114</td> <td>   -8.237</td> <td> 0.000</td> <td>   -1.167</td> <td>   -0.719</td>\n",
              "</tr>\n",
              "<tr>\n",
              "  <th>fresh_thickness</th>             <td>   -0.4962</td> <td>    0.069</td> <td>   -7.191</td> <td> 0.000</td> <td>   -0.631</td> <td>   -0.361</td>\n",
              "</tr>\n",
              "<tr>\n",
              "  <th>no_visitors:fresh_thickness</th> <td>    0.1015</td> <td>    0.013</td> <td>    7.835</td> <td> 0.000</td> <td>    0.076</td> <td>    0.127</td>\n",
              "</tr>\n",
              "</table>"
            ]
          },
          "metadata": {},
          "execution_count": 8
        }
      ]
    },
    {
      "cell_type": "markdown",
      "source": [
        "We can see that the interaction term is helpful - the p-value is less than 0.05. The model is also performing better than our previous attempts.\n",
        "\n",
        "## Making predictions with multiple features\n",
        "\n",
        "Very quickly, lets explore what this interaction means by looking at model predictions.\n",
        "\n",
        "We will first graph two independent features in 3D. Let's start with `weak_layers` and `wind`:"
      ],
      "metadata": {
        "id": "VSw4q_s8VjGx"
      }
    },
    {
      "cell_type": "code",
      "source": [
        "graphing.model_to_surface_plot(model_with_interaction, [\"weak_layers\", \"wind\"], test)"
      ],
      "metadata": {
        "colab": {
          "base_uri": "https://localhost:8080/",
          "height": 435
        },
        "id": "q_kTrwMMVj18",
        "outputId": "624ec871-c74b-436f-9c9b-7852c81fe404"
      },
      "execution_count": 9,
      "outputs": [
        {
          "output_type": "stream",
          "name": "stdout",
          "text": [
            "Creating plot...\n"
          ]
        },
        {
          "output_type": "display_data",
          "data": {
            "text/html": [
              "<html>\n",
              "<head><meta charset=\"utf-8\" /></head>\n",
              "<body>\n",
              "    <div>            <script src=\"https://cdnjs.cloudflare.com/ajax/libs/mathjax/2.7.5/MathJax.js?config=TeX-AMS-MML_SVG\"></script><script type=\"text/javascript\">if (window.MathJax && window.MathJax.Hub && window.MathJax.Hub.Config) {window.MathJax.Hub.Config({SVG: {font: \"STIX-Web\"}});}</script>                <script type=\"text/javascript\">window.PlotlyConfig = {MathJaxConfig: 'local'};</script>\n",
              "        <script src=\"https://cdn.plot.ly/plotly-2.18.2.min.js\"></script>                <div id=\"6df86100-7887-473c-9973-47b94915a517\" class=\"plotly-graph-div\" style=\"height:400px; width:100%;\"></div>            <script type=\"text/javascript\">                                    window.PLOTLYENV=window.PLOTLYENV || {};                                    if (document.getElementById(\"6df86100-7887-473c-9973-47b94915a517\")) {                    Plotly.newPlot(                        \"6df86100-7887-473c-9973-47b94915a517\",                        [{\"x\":[0.0,0.5263157894736842,1.0526315789473684,1.5789473684210527,2.1052631578947367,2.631578947368421,3.1578947368421053,3.6842105263157894,4.2105263157894735,4.7368421052631575,5.263157894736842,5.789473684210526,6.315789473684211,6.842105263157895,7.368421052631579,7.894736842105263,8.421052631578947,8.947368421052632,9.473684210526315,10.0],\"y\":[0.0,2.1052631578947367,4.2105263157894735,6.315789473684211,8.421052631578947,10.526315789473683,12.631578947368421,14.736842105263158,16.842105263157894,18.94736842105263,21.052631578947366,23.157894736842103,25.263157894736842,27.36842105263158,29.473684210526315,31.57894736842105,33.68421052631579,35.78947368421053,37.89473684210526,40.0],\"z\":[[0.016645957693825056,0.020814840607851454,0.02600019030453691,0.032434515151245846,0.04039511781818848,0.050208154100534266,0.062250392880744104,0.076946924689372,0.09476250165120643,0.11618374094289906,0.14168936410604605,0.17170638939602179,0.206552225613091,0.2463662699105276,0.29103969552726155,0.3401574636647384,0.3929699130776829,0.44840975304477515,0.5051621313818825,0.561781795733499],[0.021346250874046374,0.02666037995986032,0.03325250563605881,0.041405281377053606,0.05145055573832171,0.06377077263590873,0.07879608612711328,0.096994811879487,0.11885441453560695,0.14485023834257182,0.17540005473580328,0.210804704373005,0.2511789509343638,0.2963818573936385,0.34596124808260137,0.3991297299872238,0.45478751969294656,0.5115984217991136,0.5681112654228486,0.6229049297479148],[0.027336862478350966,0.034090398796134416,0.042439588961305334,0.052721994099017795,0.06532569878550104,0.08068580151860122,0.09927394146533038,0.121578033134854,0.1480694622664357,0.17915599039593866,0.2151209961653295,0.25605370392682875,0.3017803371457658,0.35181125964278326,0.40532163102136826,0.4611801546828428,0.5180308686491492,0.5744185707699186,0.6289346881541373,0.6803534544597578],[0.03494864184455917,0.04349856121946093,0.05402306260154112,0.06691582893685824,0.08261677228887322,0.10160059922327566,0.12435525671790339,0.15134756941626798,0.18297450739284657,0.21950108471615498,0.26099008991842865,0.30723421187014777,0.35770609018974536,0.41154379871971775,0.4675855834184384,0.5244573448590971,0.5807017480046247,0.6349245385796637,0.6859277746666798,0.7328041649648125],[0.04458272717896005,0.055354362536169655,0.06854182693460961,0.08458970286525123,0.10397549166090808,0.12718673524693097,0.15468507326418146,0.18685588500277084,0.22394491033866598,0.2659876173870462,0.3127425025115832,0.36364427996741894,0.41779437764768235,0.4740017144933722,0.5308757312572931,0.5869588642866026,0.6408729098191847,0.6914489707921985,0.7378162846035233,0.7794384064287007],[0.056716502944610885,0.0702043625843675,0.08660530018906318,0.10639932223086003,0.130073107643459,0.15808246595543146,0.19080036940203474,0.22845236871818472,0.2710457415176517,0.31830417394258337,0.3696243187094081,0.4240714764669754,0.48042644240012156,0.5372839193601385,0.5931880199809338,0.6467782796614671,0.6969159942763314,0.7427673886102318,0.7838337961072348,0.8199334554749756],[0.07190411135523353,0.08866427320006466,0.10887279055148738,0.13301500073263564,0.16154021702806481,0.1948081723094288,0.2330233097333141,0.2761638635378255,0.3239181351413375,0.3756446468476769,0.43037317010077486,0.4868576502785505,0.5436798141289763,0.59938735084531,0.6526391761263506,0.7023278525986818,0.7476569727396455,0.7881653993443138,0.8237043806463827,0.8543826343307096],[0.09076733229295485,0.11139659159602483,0.1360130281579851,0.1650587721144214,0.19887946963403846,0.2376575363175699,0.2813413301334391,0.3295832394807806,0.38170365683881297,0.4366975019886719,0.4932932126962611,0.5500613366893952,0.605555030123668,0.6584541785834421,0.7076836093736509,0.7524845854834107,0.7924331895614498,0.8274129580459252,0.857557460180735,0.883180210148344],[0.11397141485009529,0.13906778926737623,0.1686385516265206,0.20301440013196376,0.24235480336595183,0.28657743294872146,0.3352982851309856,0.3877996946065134,0.44304248642613187,0.49973099845301266,0.5564264270055197,0.6116892705417272,0.6642219187519384,0.7129823843392428,0.757249827275156,0.7966371826481412,0.8310595219050165,0.8606743545154303,0.8858110901652295,0.9069032764599655],[0.1421798679710843,0.17227994942751435,0.20721306407553242,0.2471148166909522,0.29187140817481755,0.34106201557677474,0.39393106109847703,0.44940611098279915,0.5061688734013627,0.5627730465020616,0.6177883262003097,0.6699410815814569,0.7182233532425084,0.7619523496275622,0.8007774356937654,0.8346444358063171,0.8637338831971929,0.8883902080802186,0.9090549085911789,0.9262113037878474],[0.1759833314915643,0.21147552193875388,0.2519372320325445,0.29722243623078254,0.3468731202520752,0.40009601395542227,0.4557863389936233,0.5126047032756065,0.5690991806271595,0.6238504943627536,0.6756104060141774,0.7234057476249417,0.7665918542059719,0.8048540456950112,0.8381680913339093,0.8667366287937117,0.8909182464449444,0.9111616839040712,0.9279521440586539,0.9417720006578868],[0.21580179310289035,0.25682165412669666,0.3026296415407731,0.35273023529216674,0.4062927692894986,0.46218111211644264,0.5190363565210503,0.5754028413493049,0.6298741171331828,0.6812286856290083,0.7285288545113714,0.7711680918430946,0.8088671482428635,0.8416309067323197,0.8696831894069273,0.8933958942473216,0.9132243137232933,0.9296550332720765,0.9431682550481996,0.954213445875353],[0.2617676358369627,0.30809209241100466,0.35863194440457985,0.4125195035688895,0.46858835294935103,0.5254617071156501,0.5816820695819706,0.6358575830228644,0.6867947691689027,0.7335920160060944,0.7756808614993521,0.8128169161930289,0.8450333255769138,0.8725741775288057,0.895823846034714,0.9152435085396288,0.9313206526727138,0.9445330004356005,0.955325517723023,0.9640978962737138],[0.31360880100979305,0.3645767798589708,0.41877435560496284,0.4750059677008967,0.5318786373760893,0.5879349375298795,0.6417993284023285,0.6923075609528093,0.7385946288001818,0.7801300091734076,0.8167035583235579,0.8483758154580294,0.8754102189249392,0.8982028010687956,0.9172199774356153,0.9329496781887815,0.9458668541081955,0.956411813192564,0.9649787040389304,0.9719112944640014],[0.37056322359589994,0.42505542863787465,0.4814318489059055,0.5382850407404354,0.5941595509512244,0.6476978388374042,0.6977660211741307,0.7435361435940516,0.7845154267673813,0.8205273179832826,0.8516588666810544,0.8781919515468614,0.9005334625120657,0.9191544275397019,0.9345427801108466,0.9471704257495396,0.9574728703739548,0.9658386681162755,0.9726058582162337,0.9780629493614907],[0.43136079251610404,0.4878638781795082,0.5446788245196434,0.6003540513305257,0.6535516503077714,0.7031691660878786,0.7484160644395244,0.7888370509112104,0.8242884717345303,0.8548829909844837,0.880920024473833,0.9028165366458969,0.9210475635083619,0.9361006227925329,0.9484443173024492,0.958509218994293,0.9666782445653918,0.9732837192447673,0.9786087459777622,0.9828910582158095],[0.4942999290017695,0.5510579126103025,0.6065166179572108,0.6593593503070883,0.7085160680890585,0.7532339480057015,0.7930948617505401,0.8279873279934331,0.8580487202778405,0.8835950968847349,0.9050527321199293,0.9229000870355565,0.9376238643724679,0.9496891228478452,0.9595213804025993,0.9674978812793721,0.9739452561140353,0.9791412527088456,0.9833187796263508,0.9866710334833123],[0.5574202481612276,0.6126454699054308,0.6651195788242046,0.7138058556851002,0.7579894027730836,0.7972888817024616,0.8316242256709866,0.8611566054011817,0.8862178370605911,0.9072427592325494,0.924712696388919,0.9391131565167516,0.9509054284979732,0.9605098675638246,0.9682980180398959,0.9745908399409995,0.9796607789064213,0.9837359849930212,0.9870055053241357,0.9896246930062356],[0.6187388679110466,0.6708310292053971,0.7190377133654297,0.7626820881604134,0.8014191741833102,0.8351995328178562,0.8642072149077569,0.888788921418126,0.9093873292421425,0.926486085972001,0.9405691441812263,0.9520938123033512,0.9614751850615483,0.9690790865772716,0.975220834484881,0.9801676274236324,0.9841429241199448,0.9873316918230046,0.9898858066476875,0.9919291842124516],[0.6764924488980055,0.7242108813715357,0.767311713588777,0.8054858423126383,0.8387136452757654,0.8672011338712462,0.8913090335746723,0.9114871537087418,0.9282209459119153,0.9419924653928231,0.9532548441728245,0.9624178291088816,0.9698415106350348,0.9758355962389341,0.9806620947164298,0.9845398413099923,0.9876497928747765,0.9901404143557498,0.9921327621613009,0.9937250633679068]],\"type\":\"surface\",\"colorbar\":{\"title\":{\"text\":\"Probability\"}}}],                        {\"template\":{\"data\":{\"barpolar\":[{\"marker\":{\"line\":{\"color\":\"white\",\"width\":0.5},\"pattern\":{\"fillmode\":\"overlay\",\"size\":10,\"solidity\":0.2}},\"type\":\"barpolar\"}],\"bar\":[{\"error_x\":{\"color\":\"#2a3f5f\"},\"error_y\":{\"color\":\"#2a3f5f\"},\"marker\":{\"line\":{\"color\":\"white\",\"width\":0.5},\"pattern\":{\"fillmode\":\"overlay\",\"size\":10,\"solidity\":0.2}},\"type\":\"bar\"}],\"carpet\":[{\"aaxis\":{\"endlinecolor\":\"#2a3f5f\",\"gridcolor\":\"#C8D4E3\",\"linecolor\":\"#C8D4E3\",\"minorgridcolor\":\"#C8D4E3\",\"startlinecolor\":\"#2a3f5f\"},\"baxis\":{\"endlinecolor\":\"#2a3f5f\",\"gridcolor\":\"#C8D4E3\",\"linecolor\":\"#C8D4E3\",\"minorgridcolor\":\"#C8D4E3\",\"startlinecolor\":\"#2a3f5f\"},\"type\":\"carpet\"}],\"choropleth\":[{\"colorbar\":{\"outlinewidth\":0,\"ticks\":\"\"},\"type\":\"choropleth\"}],\"contourcarpet\":[{\"colorbar\":{\"outlinewidth\":0,\"ticks\":\"\"},\"type\":\"contourcarpet\"}],\"contour\":[{\"colorbar\":{\"outlinewidth\":0,\"ticks\":\"\"},\"colorscale\":[[0.0,\"#0d0887\"],[0.1111111111111111,\"#46039f\"],[0.2222222222222222,\"#7201a8\"],[0.3333333333333333,\"#9c179e\"],[0.4444444444444444,\"#bd3786\"],[0.5555555555555556,\"#d8576b\"],[0.6666666666666666,\"#ed7953\"],[0.7777777777777778,\"#fb9f3a\"],[0.8888888888888888,\"#fdca26\"],[1.0,\"#f0f921\"]],\"type\":\"contour\"}],\"heatmapgl\":[{\"colorbar\":{\"outlinewidth\":0,\"ticks\":\"\"},\"colorscale\":[[0.0,\"#0d0887\"],[0.1111111111111111,\"#46039f\"],[0.2222222222222222,\"#7201a8\"],[0.3333333333333333,\"#9c179e\"],[0.4444444444444444,\"#bd3786\"],[0.5555555555555556,\"#d8576b\"],[0.6666666666666666,\"#ed7953\"],[0.7777777777777778,\"#fb9f3a\"],[0.8888888888888888,\"#fdca26\"],[1.0,\"#f0f921\"]],\"type\":\"heatmapgl\"}],\"heatmap\":[{\"colorbar\":{\"outlinewidth\":0,\"ticks\":\"\"},\"colorscale\":[[0.0,\"#0d0887\"],[0.1111111111111111,\"#46039f\"],[0.2222222222222222,\"#7201a8\"],[0.3333333333333333,\"#9c179e\"],[0.4444444444444444,\"#bd3786\"],[0.5555555555555556,\"#d8576b\"],[0.6666666666666666,\"#ed7953\"],[0.7777777777777778,\"#fb9f3a\"],[0.8888888888888888,\"#fdca26\"],[1.0,\"#f0f921\"]],\"type\":\"heatmap\"}],\"histogram2dcontour\":[{\"colorbar\":{\"outlinewidth\":0,\"ticks\":\"\"},\"colorscale\":[[0.0,\"#0d0887\"],[0.1111111111111111,\"#46039f\"],[0.2222222222222222,\"#7201a8\"],[0.3333333333333333,\"#9c179e\"],[0.4444444444444444,\"#bd3786\"],[0.5555555555555556,\"#d8576b\"],[0.6666666666666666,\"#ed7953\"],[0.7777777777777778,\"#fb9f3a\"],[0.8888888888888888,\"#fdca26\"],[1.0,\"#f0f921\"]],\"type\":\"histogram2dcontour\"}],\"histogram2d\":[{\"colorbar\":{\"outlinewidth\":0,\"ticks\":\"\"},\"colorscale\":[[0.0,\"#0d0887\"],[0.1111111111111111,\"#46039f\"],[0.2222222222222222,\"#7201a8\"],[0.3333333333333333,\"#9c179e\"],[0.4444444444444444,\"#bd3786\"],[0.5555555555555556,\"#d8576b\"],[0.6666666666666666,\"#ed7953\"],[0.7777777777777778,\"#fb9f3a\"],[0.8888888888888888,\"#fdca26\"],[1.0,\"#f0f921\"]],\"type\":\"histogram2d\"}],\"histogram\":[{\"marker\":{\"pattern\":{\"fillmode\":\"overlay\",\"size\":10,\"solidity\":0.2},\"line\":{\"width\":1}},\"type\":\"histogram\"}],\"mesh3d\":[{\"colorbar\":{\"outlinewidth\":0,\"ticks\":\"\"},\"type\":\"mesh3d\"}],\"parcoords\":[{\"line\":{\"colorbar\":{\"outlinewidth\":0,\"ticks\":\"\"}},\"type\":\"parcoords\"}],\"pie\":[{\"automargin\":true,\"type\":\"pie\"}],\"scatter3d\":[{\"line\":{\"colorbar\":{\"outlinewidth\":0,\"ticks\":\"\"}},\"marker\":{\"colorbar\":{\"outlinewidth\":0,\"ticks\":\"\"},\"opacity\":0.8},\"type\":\"scatter3d\"}],\"scattercarpet\":[{\"marker\":{\"colorbar\":{\"outlinewidth\":0,\"ticks\":\"\"}},\"type\":\"scattercarpet\"}],\"scattergeo\":[{\"marker\":{\"colorbar\":{\"outlinewidth\":0,\"ticks\":\"\"}},\"type\":\"scattergeo\"}],\"scattergl\":[{\"marker\":{\"colorbar\":{\"outlinewidth\":0,\"ticks\":\"\"}},\"type\":\"scattergl\"}],\"scattermapbox\":[{\"marker\":{\"colorbar\":{\"outlinewidth\":0,\"ticks\":\"\"}},\"type\":\"scattermapbox\"}],\"scatterpolargl\":[{\"marker\":{\"colorbar\":{\"outlinewidth\":0,\"ticks\":\"\"}},\"type\":\"scatterpolargl\"}],\"scatterpolar\":[{\"marker\":{\"colorbar\":{\"outlinewidth\":0,\"ticks\":\"\"}},\"type\":\"scatterpolar\"}],\"scatter\":[{\"fillpattern\":{\"fillmode\":\"overlay\",\"size\":10,\"solidity\":0.2},\"type\":\"scatter\",\"marker\":{\"opacity\":0.8}}],\"scatterternary\":[{\"marker\":{\"colorbar\":{\"outlinewidth\":0,\"ticks\":\"\"}},\"type\":\"scatterternary\"}],\"surface\":[{\"colorbar\":{\"outlinewidth\":0,\"ticks\":\"\"},\"colorscale\":[[0.0,\"#0d0887\"],[0.1111111111111111,\"#46039f\"],[0.2222222222222222,\"#7201a8\"],[0.3333333333333333,\"#9c179e\"],[0.4444444444444444,\"#bd3786\"],[0.5555555555555556,\"#d8576b\"],[0.6666666666666666,\"#ed7953\"],[0.7777777777777778,\"#fb9f3a\"],[0.8888888888888888,\"#fdca26\"],[1.0,\"#f0f921\"]],\"type\":\"surface\"}],\"table\":[{\"cells\":{\"fill\":{\"color\":\"#EBF0F8\"},\"line\":{\"color\":\"white\"}},\"header\":{\"fill\":{\"color\":\"#C8D4E3\"},\"line\":{\"color\":\"white\"}},\"type\":\"table\"}],\"box\":[{\"boxpoints\":\"outliers\",\"notched\":false,\"type\":\"box\"}]},\"layout\":{\"annotationdefaults\":{\"arrowcolor\":\"#2a3f5f\",\"arrowhead\":0,\"arrowwidth\":1},\"autotypenumbers\":\"strict\",\"coloraxis\":{\"colorbar\":{\"outlinewidth\":0,\"ticks\":\"\"}},\"colorscale\":{\"diverging\":[[0,\"#8e0152\"],[0.1,\"#c51b7d\"],[0.2,\"#de77ae\"],[0.3,\"#f1b6da\"],[0.4,\"#fde0ef\"],[0.5,\"#f7f7f7\"],[0.6,\"#e6f5d0\"],[0.7,\"#b8e186\"],[0.8,\"#7fbc41\"],[0.9,\"#4d9221\"],[1,\"#276419\"]],\"sequential\":[[0.0,\"#0d0887\"],[0.1111111111111111,\"#46039f\"],[0.2222222222222222,\"#7201a8\"],[0.3333333333333333,\"#9c179e\"],[0.4444444444444444,\"#bd3786\"],[0.5555555555555556,\"#d8576b\"],[0.6666666666666666,\"#ed7953\"],[0.7777777777777778,\"#fb9f3a\"],[0.8888888888888888,\"#fdca26\"],[1.0,\"#f0f921\"]],\"sequentialminus\":[[0.0,\"#0d0887\"],[0.1111111111111111,\"#46039f\"],[0.2222222222222222,\"#7201a8\"],[0.3333333333333333,\"#9c179e\"],[0.4444444444444444,\"#bd3786\"],[0.5555555555555556,\"#d8576b\"],[0.6666666666666666,\"#ed7953\"],[0.7777777777777778,\"#fb9f3a\"],[0.8888888888888888,\"#fdca26\"],[1.0,\"#f0f921\"]]},\"colorway\":[\"#636efa\",\"#EF553B\",\"#00cc96\",\"#ab63fa\",\"#FFA15A\",\"#19d3f3\",\"#FF6692\",\"#B6E880\",\"#FF97FF\",\"#FECB52\"],\"font\":{\"color\":\"#2a3f5f\"},\"geo\":{\"bgcolor\":\"white\",\"lakecolor\":\"white\",\"landcolor\":\"white\",\"showlakes\":true,\"showland\":true,\"subunitcolor\":\"#C8D4E3\"},\"hoverlabel\":{\"align\":\"left\"},\"hovermode\":\"closest\",\"mapbox\":{\"style\":\"light\"},\"paper_bgcolor\":\"white\",\"plot_bgcolor\":\"white\",\"polar\":{\"angularaxis\":{\"gridcolor\":\"#EBF0F8\",\"linecolor\":\"#EBF0F8\",\"ticks\":\"\"},\"bgcolor\":\"white\",\"radialaxis\":{\"gridcolor\":\"#EBF0F8\",\"linecolor\":\"#EBF0F8\",\"ticks\":\"\"}},\"scene\":{\"xaxis\":{\"backgroundcolor\":\"white\",\"gridcolor\":\"#DFE8F3\",\"gridwidth\":2,\"linecolor\":\"#EBF0F8\",\"showbackground\":true,\"ticks\":\"\",\"zerolinecolor\":\"#EBF0F8\"},\"yaxis\":{\"backgroundcolor\":\"white\",\"gridcolor\":\"#DFE8F3\",\"gridwidth\":2,\"linecolor\":\"#EBF0F8\",\"showbackground\":true,\"ticks\":\"\",\"zerolinecolor\":\"#EBF0F8\"},\"zaxis\":{\"backgroundcolor\":\"white\",\"gridcolor\":\"#DFE8F3\",\"gridwidth\":2,\"linecolor\":\"#EBF0F8\",\"showbackground\":true,\"ticks\":\"\",\"zerolinecolor\":\"#EBF0F8\"},\"camera\":{\"eye\":{\"x\":1.5,\"y\":1.5,\"z\":0.1}}},\"shapedefaults\":{\"line\":{\"color\":\"#2a3f5f\"}},\"ternary\":{\"aaxis\":{\"gridcolor\":\"#DFE8F3\",\"linecolor\":\"#A2B1C6\",\"ticks\":\"\"},\"baxis\":{\"gridcolor\":\"#DFE8F3\",\"linecolor\":\"#A2B1C6\",\"ticks\":\"\"},\"bgcolor\":\"white\",\"caxis\":{\"gridcolor\":\"#DFE8F3\",\"linecolor\":\"#A2B1C6\",\"ticks\":\"\"}},\"title\":{\"x\":0.5},\"xaxis\":{\"automargin\":true,\"gridcolor\":\"#EBF0F8\",\"linecolor\":\"#EBF0F8\",\"ticks\":\"\",\"title\":{\"standoff\":15},\"zerolinecolor\":\"#EBF0F8\",\"zerolinewidth\":2,\"linewidth\":2,\"showline\":true},\"yaxis\":{\"automargin\":true,\"gridcolor\":\"#EBF0F8\",\"linecolor\":\"#EBF0F8\",\"ticks\":\"\",\"title\":{\"standoff\":15},\"zerolinecolor\":\"#EBF0F8\",\"zerolinewidth\":2,\"linewidth\":2,\"showline\":true},\"height\":400,\"margin\":{\"b\":2,\"l\":2,\"r\":2,\"t\":30}}},\"title\":{\"text\":\"Model Prediction\"},\"scene\":{\"xaxis\":{\"title\":{\"text\":\"weak_layers\"}},\"yaxis\":{\"title\":{\"text\":\"wind\"}},\"zaxis\":{\"title\":{\"text\":\"Probability\"}}}},                        {\"responsive\": true}                    ).then(function(){\n",
              "                            \n",
              "var gd = document.getElementById('6df86100-7887-473c-9973-47b94915a517');\n",
              "var x = new MutationObserver(function (mutations, observer) {{\n",
              "        var display = window.getComputedStyle(gd).display;\n",
              "        if (!display || display === 'none') {{\n",
              "            console.log([gd, 'removed!']);\n",
              "            Plotly.purge(gd);\n",
              "            observer.disconnect();\n",
              "        }}\n",
              "}});\n",
              "\n",
              "// Listen for the removal of the full notebook cells\n",
              "var notebookContainer = gd.closest('#notebook-container');\n",
              "if (notebookContainer) {{\n",
              "    x.observe(notebookContainer, {childList: true});\n",
              "}}\n",
              "\n",
              "// Listen for the clearing of the current output cell\n",
              "var outputEl = gd.closest('.output');\n",
              "if (outputEl) {{\n",
              "    x.observe(outputEl, {childList: true});\n",
              "}}\n",
              "\n",
              "                        })                };                            </script>        </div>\n",
              "</body>\n",
              "</html>"
            ]
          },
          "metadata": {}
        }
      ]
    },
    {
      "cell_type": "markdown",
      "source": [
        "The graph is interactive - rotate it and explore how there's a clear s-shaped relationship between the features and probability.\n",
        "\n",
        "Let's now look at the features that we've said can interact:"
      ],
      "metadata": {
        "id": "YYRNy8nBV00q"
      }
    },
    {
      "cell_type": "code",
      "source": [
        "graphing.model_to_surface_plot(model_with_interaction, [\"no_visitors\", \"fresh_thickness\"], test)"
      ],
      "metadata": {
        "colab": {
          "base_uri": "https://localhost:8080/",
          "height": 435
        },
        "id": "Bra7uozqV0Xd",
        "outputId": "aade300c-9178-4b24-ecef-5b1c036babd6"
      },
      "execution_count": 10,
      "outputs": [
        {
          "output_type": "stream",
          "name": "stdout",
          "text": [
            "Creating plot...\n"
          ]
        },
        {
          "output_type": "display_data",
          "data": {
            "text/html": [
              "<html>\n",
              "<head><meta charset=\"utf-8\" /></head>\n",
              "<body>\n",
              "    <div>            <script src=\"https://cdnjs.cloudflare.com/ajax/libs/mathjax/2.7.5/MathJax.js?config=TeX-AMS-MML_SVG\"></script><script type=\"text/javascript\">if (window.MathJax && window.MathJax.Hub && window.MathJax.Hub.Config) {window.MathJax.Hub.Config({SVG: {font: \"STIX-Web\"}});}</script>                <script type=\"text/javascript\">window.PlotlyConfig = {MathJaxConfig: 'local'};</script>\n",
              "        <script src=\"https://cdn.plot.ly/plotly-2.18.2.min.js\"></script>                <div id=\"bcdf732e-272e-404c-b3ab-f3fb7aa77452\" class=\"plotly-graph-div\" style=\"height:400px; width:100%;\"></div>            <script type=\"text/javascript\">                                    window.PLOTLYENV=window.PLOTLYENV || {};                                    if (document.getElementById(\"bcdf732e-272e-404c-b3ab-f3fb7aa77452\")) {                    Plotly.newPlot(                        \"bcdf732e-272e-404c-b3ab-f3fb7aa77452\",                        [{\"x\":[0.0,0.47368421052631576,0.9473684210526315,1.4210526315789473,1.894736842105263,2.3684210526315788,2.8421052631578947,3.31578947368421,3.789473684210526,4.263157894736842,4.7368421052631575,5.2105263157894735,5.684210526315789,6.157894736842105,6.63157894736842,7.105263157894736,7.578947368421052,8.052631578947368,8.526315789473683,9.0],\"y\":[0.4137014307004687,1.2959187122253057,2.1781359937501428,3.0603532752749802,3.9425705567998173,4.824787838324655,5.707005119849492,6.589222401374329,7.471439682899166,8.353656964424003,9.23587424594884,10.118091527473677,11.000308808998515,11.882526090523351,12.764743372048189,13.646960653573025,14.529177935097863,15.4113952166227,16.29361249814754,17.175829779672377],\"z\":[[0.99044918008353,0.9854392371316609,0.9778600417499924,0.966469944710615,0.9495225928648764,0.9246769998260714,0.8890313166146231,0.8394457433886229,0.7733518652935405,0.6900944442979234,0.5923735767580232,0.4867560566771181,0.38230816459947126,0.2877089539516023,0.2086120942316283,0.14677953821165896,0.10093661725478197,0.06826601525051643,0.04563331996344384,0.030260497637880718],[0.9852805799553711,0.9785303897364478,0.9687827037145869,0.9548137161707447,0.9350132513097367,0.9073779610227785,0.8696294712482959,0.8195558525936689,0.7556535479978904,0.6780119636373165,0.5891143092897569,0.4939902474396435,0.399299305499253,0.31158259783380976,0.2355783043577065,0.17344275287706343,0.12501566386065788,0.08865958913492779,0.06212561403997491,0.043156656612182875],[0.9773787812881171,0.9684483644175704,0.9561505644008695,0.9393596186708871,0.9166991944073009,0.8865932077592887,0.8474175942462414,0.7977954769159218,0.7370431335968362,0.6656866223244292,0.5858472013833484,0.5012269555332393,0.4165363650661542,0.3365013743273299,0.2648636669745737,0.20379259420751367,0.15385591367802223,0.11439746629010641,0.08405341946170541,0.061201929454817304],[0.9653841059371397,0.9538551336028975,0.9387300859192843,0.9190680908910764,0.8938101642972097,0.8618543811722702,0.822195118764651,0.774134149214139,0.7175450997272512,0.6531308525319152,0.5825725226493615,0.5084631496155109,0.4339799433101535,0.3623640314854628,0.2963780766870715,0.23792449347860853,0.18792049132653865,0.14640672023126383,0.11279006758473796,0.08611348547981049],[0.9473718388209149,0.9329793598287853,0.9150040266384517,0.8927617469677956,0.8655542010259727,0.8327370775944405,0.793817704739337,0.7485766208337947,0.6971952760168535,0.6403582882366237,0.5792905453283066,0.515695799205134,0.4515886291033739,0.38904889763222744,0.3299591654769667,0.27579281341728606,0.22749934908121075,0.1854964056926135,0.1497451604798276,0.11987028947390006],[0.9207563007618523,0.9036137806867809,0.8832331606674778,0.8592145314224405,0.8311995580229824,0.798914543453415,0.7622210807346388,0.7211687938868461,0.6760412542509632,0.6273837265502266,0.5760015442048456,0.5229218797560146,0.4693193773048233,0.4164155330306058,0.36536938678238445,0.3171797598812928,0.27261573701110575,0.23218393100813534,0.19613170529318583,0.1644782908155978],[0.882352075589834,0.8632671463983732,0.841641888766555,0.8173202060190153,0.7901942261324284,0.7602220040536135,0.7274449057833644,0.692002512127796,0.6541425113595655,0.6142230766317986,0.5727057965201443,0.5301383777103421,0.48712791982637754,0.4443072436018359,0.40229810356759327,0.36167574891441506,0.32293902053633755,0.28648907225615056,0.2526182031264573,0.22150861835634064],[0.82879651836193,0.8095904930850267,0.7887789891168765,0.7663492933889571,0.7423158854941226,0.7167241812762754,0.6896534540273163,0.6612185699355551,0.6315702058556375,0.6008932962628403,0.5694035818824222,0.5373422955126232,0.5049692025311006,0.4725543892611964,0.44036933428144465,0.4086778819466336,0.37772774902666983,0.347743132377578,0.31891885911511836,0.2914163525473741],[0.7575601053938388,0.7411602762959261,0.7240551734504723,0.7062676825184356,0.6878279485334937,0.6687735088959362,0.6491492736840158,0.6290073385291837,0.6084066207882168,0.5874123163854297,0.5660951821757623,0.5445306565670202,0.522797838926923,0.5009783554384432,0.4791551450183897,0.45741120321088063,0.43582832426040374,0.41448588166901573,0.39345968544057225,0.3728209500856286],[0.6685371538019936,0.6585106517915471,0.6483403924658074,0.6380337333213337,0.6275985090473764,0.6170430132797602,0.6063759770448288,0.595606543962195,0.5847442423142707,0.5737989541298102,0.5627808814672379,0.5517005101206618,0.5405685710064142,0.5293959995200488,0.5181938931822546,0.5069734679165432,0.4957460133212742,0.48452284731320205,0.47331527052889444,0.46213452087393736],[0.5655710296385342,0.564960887603227,0.564350548717092,0.563740014767019,0.5631292875422443,0.5625183688343288,0.5619072604371373,0.5612959641468194,0.5606844817617869,0.5600728150826951,0.559460965912421,0.5588489360560429,0.5582367273208196,0.55762434151617,0.5570117804536504,0.5563990459469358,0.5557861398117986,0.5551730638660853,0.5545598199296982,0.5539464098245721],[0.45661701763568113,0.46654429209832265,0.4764981327761914,0.48647067810594863,0.49645400707896137,0.5064401643389814,0.516421185512006,0.5263891225971772,0.536336069246878,0.5462541857654659,0.5561357236593343,0.5659730495761744,0.5757586684782884,0.5854852459035074,0.595145629177505,0.6047328674529245,0.6142402304635327,0.623661225895397,0.6329896152916028,0.6422194284220829],[0.35166188392904224,0.37066460005206503,0.3900763550791041,0.4098426674428872,0.42990460718255563,0.45019944089957264,0.47066137842093386,0.49122240348843643,0.5118131668926814,0.5323639174957342,0.552805444750914,0.5730700057667878,0.5930922107166631,0.6128098424089137,0.6321645889597727,0.6511026725248611,0.6695753616706154,0.6875393598966937,0.7049570677503123,0.7217967206240489],[0.259318245204923,0.28399909527998957,0.3100456787108201,0.33735555380408017,0.3657956179398286,0.39520333782138367,0.4253894821256307,0.4561423389951985,0.48723326769756414,0.518423302990068,0.5494704210260515,0.5801370040206275,0.6101970189946818,0.6394424573644634,0.6676886617368445,0.6947782811650306,0.7205837287113265,0.7450081467880811,0.7679850002023199,0.7894765028768312],[0.18432916123876397,0.21080930528163166,0.23997433190837564,0.27178471659498743,0.3061134545956832,0.3427374440527714,0.3813351368496393,0.4214920650711701,0.4627149603957814,0.5044539472241175,0.5461309460192836,0.5871712923096762,0.6270349621284823,0.6652438708953693,0.7014024578981101,0.735209972794277,0.7664642273101311,0.7950577538804511,0.8209681116773468,0.8442444266160964],[0.12729830320347676,0.15246492285961188,0.1815717676450868,0.21482687373595544,0.2522951238501683,0.293852568037595,0.33915033116948207,0.38759805689019017,0.4383756498134949,0.4904776341936838,0.5427873148592041,0.5941701712920427,0.6435704238148237,0.6900937727677964,0.7330633349025443,0.7720430702833635,0.806830658307595,0.8374273497797223,0.8639946652907262,0.8868072398124105],[0.08605109388601155,0.10805719708168965,0.1348605759618938,0.16706716538727776,0.20514136185201698,0.24929555622898011,0.2993739684470707,0.35475821623783516,0.41432932530163075,0.4765161913122091,0.5394398241656673,0.6011309982411995,0.6597705648601857,0.7138923539334422,0.7625038557026501,0.8051107334039291,0.8416611852659909,0.872442835565344,0.8979658645564409,0.9188569459616384],[0.05729142433785004,0.07543270074598028,0.09871686183763832,0.12819173959336588,0.16485746944286886,0.2094904064622235,0.26241026737329876,0.3232321983504668,0.39068446650216043,0.4625913532335427,0.5360887719458589,0.6080511907862609,0.6756055335023508,0.736561034176427,0.7896291817449367,0.8344104028195285,0.8712138541994167,0.9008098528897743,0.9241962578413474,0.9424212111107135],[0.037746722160544345,0.05208298683156026,0.07145983009533897,0.09730558273491977,0.13117866242567172,0.1745630576451937,0.22852187290623213,0.2932345727938612,0.3675421663239983,0.44872462690187004,0.5327344574893162,0.6149282304530644,0.6910486222944143,0.7580423822832726,0.8144104805279218,0.8600707371383156,0.8959327521910543,0.923422140854075,0.9441032312968476,0.9594443568634645],[0.02469494171814479,0.03568208589846667,0.05130044891370517,0.07323591881496917,0.10352721299830059,0.1443952962700298,0.19783607252309449,0.2649310686644645,0.344994536536063,0.43493715960289764,0.5293771812619641,0.621759665996911,0.7060763715510662,0.7782993291185387,0.8368756443471576,0.882315487587237,0.916362640394202,0.9412159191238683,0.9590142345085426,0.9715863560479974]],\"type\":\"surface\",\"colorbar\":{\"title\":{\"text\":\"Probability\"}}}],                        {\"template\":{\"data\":{\"barpolar\":[{\"marker\":{\"line\":{\"color\":\"white\",\"width\":0.5},\"pattern\":{\"fillmode\":\"overlay\",\"size\":10,\"solidity\":0.2}},\"type\":\"barpolar\"}],\"bar\":[{\"error_x\":{\"color\":\"#2a3f5f\"},\"error_y\":{\"color\":\"#2a3f5f\"},\"marker\":{\"line\":{\"color\":\"white\",\"width\":0.5},\"pattern\":{\"fillmode\":\"overlay\",\"size\":10,\"solidity\":0.2}},\"type\":\"bar\"}],\"carpet\":[{\"aaxis\":{\"endlinecolor\":\"#2a3f5f\",\"gridcolor\":\"#C8D4E3\",\"linecolor\":\"#C8D4E3\",\"minorgridcolor\":\"#C8D4E3\",\"startlinecolor\":\"#2a3f5f\"},\"baxis\":{\"endlinecolor\":\"#2a3f5f\",\"gridcolor\":\"#C8D4E3\",\"linecolor\":\"#C8D4E3\",\"minorgridcolor\":\"#C8D4E3\",\"startlinecolor\":\"#2a3f5f\"},\"type\":\"carpet\"}],\"choropleth\":[{\"colorbar\":{\"outlinewidth\":0,\"ticks\":\"\"},\"type\":\"choropleth\"}],\"contourcarpet\":[{\"colorbar\":{\"outlinewidth\":0,\"ticks\":\"\"},\"type\":\"contourcarpet\"}],\"contour\":[{\"colorbar\":{\"outlinewidth\":0,\"ticks\":\"\"},\"colorscale\":[[0.0,\"#0d0887\"],[0.1111111111111111,\"#46039f\"],[0.2222222222222222,\"#7201a8\"],[0.3333333333333333,\"#9c179e\"],[0.4444444444444444,\"#bd3786\"],[0.5555555555555556,\"#d8576b\"],[0.6666666666666666,\"#ed7953\"],[0.7777777777777778,\"#fb9f3a\"],[0.8888888888888888,\"#fdca26\"],[1.0,\"#f0f921\"]],\"type\":\"contour\"}],\"heatmapgl\":[{\"colorbar\":{\"outlinewidth\":0,\"ticks\":\"\"},\"colorscale\":[[0.0,\"#0d0887\"],[0.1111111111111111,\"#46039f\"],[0.2222222222222222,\"#7201a8\"],[0.3333333333333333,\"#9c179e\"],[0.4444444444444444,\"#bd3786\"],[0.5555555555555556,\"#d8576b\"],[0.6666666666666666,\"#ed7953\"],[0.7777777777777778,\"#fb9f3a\"],[0.8888888888888888,\"#fdca26\"],[1.0,\"#f0f921\"]],\"type\":\"heatmapgl\"}],\"heatmap\":[{\"colorbar\":{\"outlinewidth\":0,\"ticks\":\"\"},\"colorscale\":[[0.0,\"#0d0887\"],[0.1111111111111111,\"#46039f\"],[0.2222222222222222,\"#7201a8\"],[0.3333333333333333,\"#9c179e\"],[0.4444444444444444,\"#bd3786\"],[0.5555555555555556,\"#d8576b\"],[0.6666666666666666,\"#ed7953\"],[0.7777777777777778,\"#fb9f3a\"],[0.8888888888888888,\"#fdca26\"],[1.0,\"#f0f921\"]],\"type\":\"heatmap\"}],\"histogram2dcontour\":[{\"colorbar\":{\"outlinewidth\":0,\"ticks\":\"\"},\"colorscale\":[[0.0,\"#0d0887\"],[0.1111111111111111,\"#46039f\"],[0.2222222222222222,\"#7201a8\"],[0.3333333333333333,\"#9c179e\"],[0.4444444444444444,\"#bd3786\"],[0.5555555555555556,\"#d8576b\"],[0.6666666666666666,\"#ed7953\"],[0.7777777777777778,\"#fb9f3a\"],[0.8888888888888888,\"#fdca26\"],[1.0,\"#f0f921\"]],\"type\":\"histogram2dcontour\"}],\"histogram2d\":[{\"colorbar\":{\"outlinewidth\":0,\"ticks\":\"\"},\"colorscale\":[[0.0,\"#0d0887\"],[0.1111111111111111,\"#46039f\"],[0.2222222222222222,\"#7201a8\"],[0.3333333333333333,\"#9c179e\"],[0.4444444444444444,\"#bd3786\"],[0.5555555555555556,\"#d8576b\"],[0.6666666666666666,\"#ed7953\"],[0.7777777777777778,\"#fb9f3a\"],[0.8888888888888888,\"#fdca26\"],[1.0,\"#f0f921\"]],\"type\":\"histogram2d\"}],\"histogram\":[{\"marker\":{\"pattern\":{\"fillmode\":\"overlay\",\"size\":10,\"solidity\":0.2},\"line\":{\"width\":1}},\"type\":\"histogram\"}],\"mesh3d\":[{\"colorbar\":{\"outlinewidth\":0,\"ticks\":\"\"},\"type\":\"mesh3d\"}],\"parcoords\":[{\"line\":{\"colorbar\":{\"outlinewidth\":0,\"ticks\":\"\"}},\"type\":\"parcoords\"}],\"pie\":[{\"automargin\":true,\"type\":\"pie\"}],\"scatter3d\":[{\"line\":{\"colorbar\":{\"outlinewidth\":0,\"ticks\":\"\"}},\"marker\":{\"colorbar\":{\"outlinewidth\":0,\"ticks\":\"\"},\"opacity\":0.8},\"type\":\"scatter3d\"}],\"scattercarpet\":[{\"marker\":{\"colorbar\":{\"outlinewidth\":0,\"ticks\":\"\"}},\"type\":\"scattercarpet\"}],\"scattergeo\":[{\"marker\":{\"colorbar\":{\"outlinewidth\":0,\"ticks\":\"\"}},\"type\":\"scattergeo\"}],\"scattergl\":[{\"marker\":{\"colorbar\":{\"outlinewidth\":0,\"ticks\":\"\"}},\"type\":\"scattergl\"}],\"scattermapbox\":[{\"marker\":{\"colorbar\":{\"outlinewidth\":0,\"ticks\":\"\"}},\"type\":\"scattermapbox\"}],\"scatterpolargl\":[{\"marker\":{\"colorbar\":{\"outlinewidth\":0,\"ticks\":\"\"}},\"type\":\"scatterpolargl\"}],\"scatterpolar\":[{\"marker\":{\"colorbar\":{\"outlinewidth\":0,\"ticks\":\"\"}},\"type\":\"scatterpolar\"}],\"scatter\":[{\"fillpattern\":{\"fillmode\":\"overlay\",\"size\":10,\"solidity\":0.2},\"type\":\"scatter\",\"marker\":{\"opacity\":0.8}}],\"scatterternary\":[{\"marker\":{\"colorbar\":{\"outlinewidth\":0,\"ticks\":\"\"}},\"type\":\"scatterternary\"}],\"surface\":[{\"colorbar\":{\"outlinewidth\":0,\"ticks\":\"\"},\"colorscale\":[[0.0,\"#0d0887\"],[0.1111111111111111,\"#46039f\"],[0.2222222222222222,\"#7201a8\"],[0.3333333333333333,\"#9c179e\"],[0.4444444444444444,\"#bd3786\"],[0.5555555555555556,\"#d8576b\"],[0.6666666666666666,\"#ed7953\"],[0.7777777777777778,\"#fb9f3a\"],[0.8888888888888888,\"#fdca26\"],[1.0,\"#f0f921\"]],\"type\":\"surface\"}],\"table\":[{\"cells\":{\"fill\":{\"color\":\"#EBF0F8\"},\"line\":{\"color\":\"white\"}},\"header\":{\"fill\":{\"color\":\"#C8D4E3\"},\"line\":{\"color\":\"white\"}},\"type\":\"table\"}],\"box\":[{\"boxpoints\":\"outliers\",\"notched\":false,\"type\":\"box\"}]},\"layout\":{\"annotationdefaults\":{\"arrowcolor\":\"#2a3f5f\",\"arrowhead\":0,\"arrowwidth\":1},\"autotypenumbers\":\"strict\",\"coloraxis\":{\"colorbar\":{\"outlinewidth\":0,\"ticks\":\"\"}},\"colorscale\":{\"diverging\":[[0,\"#8e0152\"],[0.1,\"#c51b7d\"],[0.2,\"#de77ae\"],[0.3,\"#f1b6da\"],[0.4,\"#fde0ef\"],[0.5,\"#f7f7f7\"],[0.6,\"#e6f5d0\"],[0.7,\"#b8e186\"],[0.8,\"#7fbc41\"],[0.9,\"#4d9221\"],[1,\"#276419\"]],\"sequential\":[[0.0,\"#0d0887\"],[0.1111111111111111,\"#46039f\"],[0.2222222222222222,\"#7201a8\"],[0.3333333333333333,\"#9c179e\"],[0.4444444444444444,\"#bd3786\"],[0.5555555555555556,\"#d8576b\"],[0.6666666666666666,\"#ed7953\"],[0.7777777777777778,\"#fb9f3a\"],[0.8888888888888888,\"#fdca26\"],[1.0,\"#f0f921\"]],\"sequentialminus\":[[0.0,\"#0d0887\"],[0.1111111111111111,\"#46039f\"],[0.2222222222222222,\"#7201a8\"],[0.3333333333333333,\"#9c179e\"],[0.4444444444444444,\"#bd3786\"],[0.5555555555555556,\"#d8576b\"],[0.6666666666666666,\"#ed7953\"],[0.7777777777777778,\"#fb9f3a\"],[0.8888888888888888,\"#fdca26\"],[1.0,\"#f0f921\"]]},\"colorway\":[\"#636efa\",\"#EF553B\",\"#00cc96\",\"#ab63fa\",\"#FFA15A\",\"#19d3f3\",\"#FF6692\",\"#B6E880\",\"#FF97FF\",\"#FECB52\"],\"font\":{\"color\":\"#2a3f5f\"},\"geo\":{\"bgcolor\":\"white\",\"lakecolor\":\"white\",\"landcolor\":\"white\",\"showlakes\":true,\"showland\":true,\"subunitcolor\":\"#C8D4E3\"},\"hoverlabel\":{\"align\":\"left\"},\"hovermode\":\"closest\",\"mapbox\":{\"style\":\"light\"},\"paper_bgcolor\":\"white\",\"plot_bgcolor\":\"white\",\"polar\":{\"angularaxis\":{\"gridcolor\":\"#EBF0F8\",\"linecolor\":\"#EBF0F8\",\"ticks\":\"\"},\"bgcolor\":\"white\",\"radialaxis\":{\"gridcolor\":\"#EBF0F8\",\"linecolor\":\"#EBF0F8\",\"ticks\":\"\"}},\"scene\":{\"xaxis\":{\"backgroundcolor\":\"white\",\"gridcolor\":\"#DFE8F3\",\"gridwidth\":2,\"linecolor\":\"#EBF0F8\",\"showbackground\":true,\"ticks\":\"\",\"zerolinecolor\":\"#EBF0F8\"},\"yaxis\":{\"backgroundcolor\":\"white\",\"gridcolor\":\"#DFE8F3\",\"gridwidth\":2,\"linecolor\":\"#EBF0F8\",\"showbackground\":true,\"ticks\":\"\",\"zerolinecolor\":\"#EBF0F8\"},\"zaxis\":{\"backgroundcolor\":\"white\",\"gridcolor\":\"#DFE8F3\",\"gridwidth\":2,\"linecolor\":\"#EBF0F8\",\"showbackground\":true,\"ticks\":\"\",\"zerolinecolor\":\"#EBF0F8\"},\"camera\":{\"eye\":{\"x\":1.5,\"y\":1.5,\"z\":0.1}}},\"shapedefaults\":{\"line\":{\"color\":\"#2a3f5f\"}},\"ternary\":{\"aaxis\":{\"gridcolor\":\"#DFE8F3\",\"linecolor\":\"#A2B1C6\",\"ticks\":\"\"},\"baxis\":{\"gridcolor\":\"#DFE8F3\",\"linecolor\":\"#A2B1C6\",\"ticks\":\"\"},\"bgcolor\":\"white\",\"caxis\":{\"gridcolor\":\"#DFE8F3\",\"linecolor\":\"#A2B1C6\",\"ticks\":\"\"}},\"title\":{\"x\":0.5},\"xaxis\":{\"automargin\":true,\"gridcolor\":\"#EBF0F8\",\"linecolor\":\"#EBF0F8\",\"ticks\":\"\",\"title\":{\"standoff\":15},\"zerolinecolor\":\"#EBF0F8\",\"zerolinewidth\":2,\"linewidth\":2,\"showline\":true},\"yaxis\":{\"automargin\":true,\"gridcolor\":\"#EBF0F8\",\"linecolor\":\"#EBF0F8\",\"ticks\":\"\",\"title\":{\"standoff\":15},\"zerolinecolor\":\"#EBF0F8\",\"zerolinewidth\":2,\"linewidth\":2,\"showline\":true},\"height\":400,\"margin\":{\"b\":2,\"l\":2,\"r\":2,\"t\":30}}},\"title\":{\"text\":\"Model Prediction\"},\"scene\":{\"xaxis\":{\"title\":{\"text\":\"no_visitors\"}},\"yaxis\":{\"title\":{\"text\":\"fresh_thickness\"}},\"zaxis\":{\"title\":{\"text\":\"Probability\"}}}},                        {\"responsive\": true}                    ).then(function(){\n",
              "                            \n",
              "var gd = document.getElementById('bcdf732e-272e-404c-b3ab-f3fb7aa77452');\n",
              "var x = new MutationObserver(function (mutations, observer) {{\n",
              "        var display = window.getComputedStyle(gd).display;\n",
              "        if (!display || display === 'none') {{\n",
              "            console.log([gd, 'removed!']);\n",
              "            Plotly.purge(gd);\n",
              "            observer.disconnect();\n",
              "        }}\n",
              "}});\n",
              "\n",
              "// Listen for the removal of the full notebook cells\n",
              "var notebookContainer = gd.closest('#notebook-container');\n",
              "if (notebookContainer) {{\n",
              "    x.observe(notebookContainer, {childList: true});\n",
              "}}\n",
              "\n",
              "// Listen for the clearing of the current output cell\n",
              "var outputEl = gd.closest('.output');\n",
              "if (outputEl) {{\n",
              "    x.observe(outputEl, {childList: true});\n",
              "}}\n",
              "\n",
              "                        })                };                            </script>        </div>\n",
              "</body>\n",
              "</html>"
            ]
          },
          "metadata": {}
        }
      ]
    },
    {
      "cell_type": "markdown",
      "source": [
        "It looks quite different to the other! From any side, we can see an s-shape, but these combine in strange ways.\n",
        "\n",
        "We can see that the risk goes up on days with lots of visitors _and_ lots of snow. There is no real risk of avalanche when there's a lot of snow but no visitors, or when there are a lot of visitors but no snow.\n",
        "\n",
        "The fact that it shows high risk when there's no fresh snow and no visitors could be due to rain, which keeps visitors and snow clouds away but results in avalanches of the older snow. To confirm this, we'd need to explore the data in more depth, but we'll stop here for now.\n",
        "\n",
        "## Summary\n",
        "\n",
        "Well done! Let's recap. We've:\n",
        "\n",
        "* improved our simple model by adding more features.\n",
        "* practiced interpreting our model coefficients (parameters) from the model summary.\n",
        "* eliminated unnecessary features.\n",
        "* explored how sometimes it's important to think about what your data really means.\n",
        "* created a model that combined features to give a superior result."
      ],
      "metadata": {
        "id": "v6qQSrjvWDpE"
      }
    }
  ]
}